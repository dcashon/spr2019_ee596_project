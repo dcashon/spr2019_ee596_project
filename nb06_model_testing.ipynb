{
 "cells": [
  {
   "cell_type": "code",
   "execution_count": 1,
   "metadata": {},
   "outputs": [],
   "source": [
    "from bddmodel import BDDModel\n",
    "import tensorflow as tf\n",
    "from bddfunc import training_batcher\n",
    "from sklearn.preprocessing import OneHotEncoder\n",
    "import numpy as np"
   ]
  },
  {
   "cell_type": "code",
   "execution_count": 2,
   "metadata": {},
   "outputs": [
    {
     "name": "stdout",
     "output_type": "stream",
     "text": [
      "WARNING:tensorflow:From /gscratch/stf/dcashon/ee596/spr2019_ee596_project/bddmodel.py:29: conv2d (from tensorflow.python.layers.convolutional) is deprecated and will be removed in a future version.\n",
      "Instructions for updating:\n",
      "Use keras.layers.conv2d instead.\n",
      "WARNING:tensorflow:From /usr/lusers/dcashon/.conda/envs/neural_nets/lib/python3.6/site-packages/tensorflow/python/framework/op_def_library.py:263: colocate_with (from tensorflow.python.framework.ops) is deprecated and will be removed in a future version.\n",
      "Instructions for updating:\n",
      "Colocations handled automatically by placer.\n",
      "WARNING:tensorflow:From /gscratch/stf/dcashon/ee596/spr2019_ee596_project/bddmodel.py:31: max_pooling2d (from tensorflow.python.layers.pooling) is deprecated and will be removed in a future version.\n",
      "Instructions for updating:\n",
      "Use keras.layers.max_pooling2d instead.\n"
     ]
    }
   ],
   "source": [
    "my_model = BDDModel()"
   ]
  },
  {
   "cell_type": "code",
   "execution_count": 3,
   "metadata": {},
   "outputs": [],
   "source": [
    "batcher = training_batcher(0, 16)\n",
    "enc = OneHotEncoder(sparse=False, categories=[np.arange(10)])"
   ]
  },
  {
   "cell_type": "code",
   "execution_count": null,
   "metadata": {},
   "outputs": [
    {
     "name": "stdout",
     "output_type": "stream",
     "text": [
      "(16, 10)\n",
      "682.443\n",
      "(16, 10)\n",
      "136690.7\n",
      "(16, 10)\n",
      "3156891.0\n",
      "(16, 10)\n",
      "794948.0\n",
      "(16, 10)\n",
      "672540.5\n",
      "(16, 10)\n",
      "75475.06\n",
      "(16, 10)\n",
      "6065270.5\n",
      "(16, 10)\n",
      "2406741.0\n",
      "(16, 10)\n",
      "361886.8\n",
      "(16, 10)\n",
      "1541866.5\n",
      "(16, 10)\n",
      "194119.1\n",
      "(16, 10)\n",
      "157012.53\n",
      "(16, 10)\n",
      "371122.3\n",
      "(16, 10)\n",
      "864246.9\n",
      "(16, 10)\n",
      "1179417.9\n",
      "(16, 10)\n",
      "447398.06\n",
      "(16, 10)\n",
      "246400.06\n",
      "(16, 10)\n",
      "291408.25\n",
      "(16, 10)\n",
      "380102.47\n",
      "(16, 10)\n",
      "1264517.0\n",
      "(16, 10)\n",
      "562178.9\n",
      "(16, 10)\n",
      "52005.85\n",
      "(16, 10)\n",
      "228914.72\n",
      "(16, 10)\n",
      "221261.55\n",
      "(16, 10)\n",
      "149565.84\n",
      "(16, 10)\n",
      "113548.7\n",
      "(16, 10)\n",
      "139091.02\n",
      "(16, 10)\n",
      "130013.42\n",
      "(16, 10)\n",
      "157630.25\n",
      "(16, 10)\n",
      "194739.62\n",
      "(16, 10)\n",
      "75237.9\n",
      "(16, 10)\n",
      "653149.44\n",
      "(16, 10)\n",
      "180237.75\n",
      "(16, 10)\n",
      "362223.25\n",
      "(16, 10)\n",
      "218015.22\n",
      "(16, 10)\n",
      "236348.61\n",
      "(16, 10)\n",
      "235622.47\n",
      "(16, 10)\n",
      "157367.31\n",
      "(16, 10)\n",
      "52203.094\n",
      "(16, 10)\n",
      "83723.34\n",
      "(16, 10)\n",
      "40185.438\n",
      "(16, 10)\n",
      "30077.652\n",
      "(16, 10)\n",
      "24330.924\n",
      "(16, 10)\n",
      "50099.67\n",
      "(16, 10)\n",
      "41239.066\n",
      "(16, 10)\n",
      "60582.29\n",
      "(16, 10)\n",
      "61734.156\n",
      "(16, 10)\n",
      "50994.117\n",
      "(16, 10)\n",
      "127727.42\n",
      "(16, 10)\n",
      "70744.59\n",
      "(16, 10)\n",
      "81484.69\n",
      "(16, 10)\n",
      "141169.11\n",
      "(16, 10)\n",
      "65899.41\n",
      "(16, 10)\n",
      "31322.55\n",
      "(16, 10)\n",
      "71328.86\n",
      "(16, 10)\n",
      "22429.324\n",
      "(16, 10)\n",
      "29690.572\n",
      "(16, 10)\n",
      "24294.41\n",
      "(16, 10)\n",
      "26379.219\n",
      "(16, 10)\n",
      "22924.379\n",
      "(16, 10)\n",
      "8156.2666\n",
      "(16, 10)\n",
      "15580.204\n",
      "(16, 10)\n",
      "42003.477\n",
      "(16, 10)\n",
      "9637.859\n",
      "(16, 10)\n",
      "11931.39\n",
      "(16, 10)\n",
      "34304.547\n",
      "(16, 10)\n",
      "12073.408\n",
      "(16, 10)\n",
      "4114.348\n",
      "(16, 10)\n",
      "15348.959\n",
      "(16, 10)\n",
      "23984.205\n",
      "(16, 10)\n",
      "10027.252\n",
      "(16, 10)\n",
      "4708.586\n",
      "(16, 10)\n",
      "20046.896\n",
      "(16, 10)\n",
      "1814.0989\n",
      "(16, 10)\n",
      "15483.792\n",
      "(16, 10)\n",
      "34024.773\n",
      "(16, 10)\n",
      "17992.807\n",
      "(16, 10)\n",
      "20103.168\n",
      "(16, 10)\n",
      "12961.884\n",
      "(16, 10)\n",
      "3062.3025\n",
      "(16, 10)\n",
      "2351.8867\n",
      "(16, 10)\n",
      "10755.554\n",
      "(16, 10)\n",
      "32608.67\n",
      "(16, 10)\n",
      "7309.149\n",
      "(16, 10)\n",
      "27182.438\n",
      "(16, 10)\n",
      "3040.2305\n",
      "(16, 10)\n",
      "10317.498\n",
      "(16, 10)\n",
      "3666.1792\n",
      "(16, 10)\n",
      "8516.769\n",
      "(16, 10)\n",
      "4942.8594\n",
      "(16, 10)\n",
      "4788.5156\n",
      "(16, 10)\n",
      "5213.1846\n",
      "(16, 10)\n",
      "4448.0205\n",
      "(16, 10)\n",
      "5426.6133\n",
      "(16, 10)\n",
      "2969.452\n",
      "(16, 10)\n",
      "4624.086\n",
      "(16, 10)\n",
      "1018.1263\n",
      "(16, 10)\n",
      "1824.2836\n",
      "(16, 10)\n",
      "1916.1567\n",
      "(16, 10)\n",
      "2656.3384\n",
      "(16, 10)\n",
      "1518.8936\n",
      "(16, 10)\n",
      "1947.484\n",
      "(16, 10)\n",
      "2107.3684\n",
      "(16, 10)\n",
      "1816.6133\n",
      "(16, 10)\n",
      "1838.4349\n",
      "(16, 10)\n",
      "1803.0842\n",
      "(16, 10)\n",
      "1411.2239\n",
      "(16, 10)\n",
      "46.495567\n",
      "(16, 10)\n",
      "5923.832\n",
      "(16, 10)\n",
      "2686.6912\n",
      "(16, 10)\n",
      "427.70795\n",
      "(16, 10)\n",
      "85.55818\n",
      "(16, 10)\n",
      "770.68176\n",
      "(16, 10)\n",
      "655.8069\n",
      "(16, 10)\n",
      "319.8228\n",
      "(16, 10)\n",
      "733.6022\n",
      "(16, 10)\n",
      "493.38953\n",
      "(16, 10)\n",
      "1659.1875\n",
      "(16, 10)\n",
      "588.95337\n",
      "(16, 10)\n",
      "643.6214\n",
      "(16, 10)\n",
      "367.43942\n",
      "(16, 10)\n",
      "369.80756\n",
      "(16, 10)\n",
      "1117.8208\n",
      "(16, 10)\n",
      "864.87915\n",
      "(16, 10)\n",
      "1450.4407\n",
      "(16, 10)\n",
      "127.21098\n",
      "(16, 10)\n",
      "1245.0332\n",
      "(16, 10)\n"
     ]
    }
   ],
   "source": [
    "init = tf.global_variables_initializer()\n",
    "with tf.Session() as sess:\n",
    "    init.run()\n",
    "    for data, labels in batcher:\n",
    "        temp = enc.fit_transform(np.reshape(labels, (-1,1)))\n",
    "        print(temp.shape)\n",
    "        f_dict = {my_model.X: data, my_model.Y1: temp}\n",
    "        my_model.minimizer.run(feed_dict=f_dict)\n",
    "        print(my_model.loss.eval(feed_dict=f_dict))"
   ]
  },
  {
   "cell_type": "code",
   "execution_count": 11,
   "metadata": {},
   "outputs": [],
   "source": [
    "import matplotlib.pyplot as plt"
   ]
  },
  {
   "cell_type": "code",
   "execution_count": 35,
   "metadata": {},
   "outputs": [
    {
     "data": {
      "text/plain": [
       "242"
      ]
     },
     "execution_count": 35,
     "metadata": {},
     "output_type": "execute_result"
    }
   ],
   "source": [
    "import numpy as np\n",
    "np.max(x[0])"
   ]
  },
  {
   "cell_type": "code",
   "execution_count": 40,
   "metadata": {},
   "outputs": [
    {
     "name": "stdout",
     "output_type": "stream",
     "text": [
      "(512,)\n"
     ]
    }
   ],
   "source": [
    "x,y = next(yolo)\n",
    "print(y.shape)"
   ]
  },
  {
   "cell_type": "code",
   "execution_count": 60,
   "metadata": {},
   "outputs": [],
   "source": []
  },
  {
   "cell_type": "code",
   "execution_count": 76,
   "metadata": {},
   "outputs": [],
   "source": [
    "enc = OneHotEncoder(sparse=False, categories=[np.arange(10)])"
   ]
  },
  {
   "cell_type": "code",
   "execution_count": 77,
   "metadata": {},
   "outputs": [],
   "source": [
    "x_shape = np.reshape(y, (-1, 1))"
   ]
  },
  {
   "cell_type": "code",
   "execution_count": 81,
   "metadata": {},
   "outputs": [],
   "source": [
    "baylyfe =enc.fit_transform(x_shape)"
   ]
  },
  {
   "cell_type": "code",
   "execution_count": 85,
   "metadata": {},
   "outputs": [
    {
     "data": {
      "text/plain": [
       "array([0., 0., 0., 0., 0., 0., 1., 0., 0., 0.])"
      ]
     },
     "execution_count": 85,
     "metadata": {},
     "output_type": "execute_result"
    }
   ],
   "source": [
    "baylyfe[0]"
   ]
  },
  {
   "cell_type": "code",
   "execution_count": 82,
   "metadata": {},
   "outputs": [
    {
     "data": {
      "text/plain": [
       "array([6, 6, 6, 6, 6, 6, 6, 6, 6, 7, 7, 7, 7, 7, 7, 7, 7, 7, 6, 7, 2, 4,\n",
       "       2, 2, 2, 2, 9, 6, 6, 7, 6, 6, 6, 6, 6, 6, 6, 7, 7, 6, 6, 6, 7, 6,\n",
       "       7, 4, 4, 4, 2, 2, 7, 7, 6, 6, 6, 6, 6, 4, 4, 2, 2, 2, 7, 7, 2, 2,\n",
       "       4, 4, 6, 7, 7, 7, 7, 7, 7, 2, 2, 2, 7, 6, 6, 6, 6, 6, 6, 6, 6, 7,\n",
       "       7, 7, 7, 7, 7, 7, 4, 2, 2, 2, 7, 7, 7, 2, 2, 2, 2, 2, 4, 4, 4, 7,\n",
       "       7, 6, 2, 2, 7, 6, 6, 7, 2, 2, 7, 6, 6, 7, 7, 7, 7, 7, 6, 6, 6, 7,\n",
       "       7, 2, 7, 2, 2, 2, 2, 2, 7, 7, 7, 7, 2, 2, 7, 7, 7, 2, 2, 2, 2, 7,\n",
       "       6, 6, 6, 6, 6, 6, 6, 6, 6, 7, 7, 6, 7, 7, 7, 7, 7, 7, 7, 7, 4, 4,\n",
       "       4, 2, 2, 2, 2, 6, 6, 6, 2, 2, 2, 7, 7, 7, 7, 7, 7, 7, 7, 2, 2, 2,\n",
       "       6, 2, 6, 7, 9, 2, 2, 7, 7, 7, 2, 7, 7, 7, 7, 7, 7, 7, 7, 7, 7, 7,\n",
       "       7, 7, 2, 7, 7, 2, 9, 7, 6, 6, 7, 7, 6, 6, 6, 6, 2, 2, 6, 6, 6, 6,\n",
       "       6, 7, 7, 7, 7, 7, 2, 2, 2, 4, 2, 6, 6, 2, 2, 2, 7, 7, 7, 7, 7, 2,\n",
       "       2, 2, 2, 2, 2, 2, 2, 2, 2, 2, 7, 7, 7, 7, 7, 7, 7, 7, 2, 7, 7, 7,\n",
       "       2, 7, 2, 7, 7, 7, 7, 7, 7, 2, 2, 7, 7, 7, 7, 2, 2, 6, 6, 7, 7, 2,\n",
       "       2, 7, 7, 6, 6, 6, 7, 2, 2, 2, 6, 2, 2, 2, 7, 7, 7, 7, 7, 7, 7, 7,\n",
       "       7, 7, 7, 7, 2, 6, 6, 6, 7, 7, 7, 7, 7, 6, 6, 6, 1, 2, 2, 2, 2, 7,\n",
       "       6, 7, 2, 7, 7, 7, 7, 2, 2, 2, 4, 2, 6, 6, 6, 6, 7, 2, 2, 6, 6, 7,\n",
       "       2, 2, 1, 4, 3, 7, 4, 2, 2, 2, 2, 6, 6, 6, 6, 7, 7, 6, 6, 6, 6, 7,\n",
       "       6, 6, 6, 7, 7, 2, 2, 7, 7, 7, 7, 7, 7, 7, 2, 2, 2, 2, 2, 2, 2, 7,\n",
       "       7, 7, 7, 7, 2, 2, 2, 2, 2, 2, 2, 7, 6, 6, 6, 2, 2, 2, 2, 7, 7, 6,\n",
       "       6, 6, 6, 6, 6, 6, 6, 6, 6, 2, 2, 6, 6, 6, 7, 7, 7, 7, 7, 7, 7, 7,\n",
       "       6, 6, 6, 2, 2, 2, 2, 2, 7, 7, 2, 6, 6, 6, 6, 6, 6, 9, 7, 4, 7, 2,\n",
       "       7, 6, 7, 9, 2, 2, 7, 6, 6, 6, 6, 2, 6, 7, 7, 7, 7, 7, 7, 6, 6, 6,\n",
       "       6, 6, 2, 2, 7, 7])"
      ]
     },
     "execution_count": 82,
     "metadata": {},
     "output_type": "execute_result"
    }
   ],
   "source": [
    "np.argmax(baylyfe, axis=1)"
   ]
  },
  {
   "cell_type": "code",
   "execution_count": 83,
   "metadata": {},
   "outputs": [
    {
     "data": {
      "text/plain": [
       "array([6, 6, 6, 6, 6, 6, 6, 6, 6, 7, 7, 7, 7, 7, 7, 7, 7, 7, 6, 7, 2, 4,\n",
       "       2, 2, 2, 2, 9, 6, 6, 7, 6, 6, 6, 6, 6, 6, 6, 7, 7, 6, 6, 6, 7, 6,\n",
       "       7, 4, 4, 4, 2, 2, 7, 7, 6, 6, 6, 6, 6, 4, 4, 2, 2, 2, 7, 7, 2, 2,\n",
       "       4, 4, 6, 7, 7, 7, 7, 7, 7, 2, 2, 2, 7, 6, 6, 6, 6, 6, 6, 6, 6, 7,\n",
       "       7, 7, 7, 7, 7, 7, 4, 2, 2, 2, 7, 7, 7, 2, 2, 2, 2, 2, 4, 4, 4, 7,\n",
       "       7, 6, 2, 2, 7, 6, 6, 7, 2, 2, 7, 6, 6, 7, 7, 7, 7, 7, 6, 6, 6, 7,\n",
       "       7, 2, 7, 2, 2, 2, 2, 2, 7, 7, 7, 7, 2, 2, 7, 7, 7, 2, 2, 2, 2, 7,\n",
       "       6, 6, 6, 6, 6, 6, 6, 6, 6, 7, 7, 6, 7, 7, 7, 7, 7, 7, 7, 7, 4, 4,\n",
       "       4, 2, 2, 2, 2, 6, 6, 6, 2, 2, 2, 7, 7, 7, 7, 7, 7, 7, 7, 2, 2, 2,\n",
       "       6, 2, 6, 7, 9, 2, 2, 7, 7, 7, 2, 7, 7, 7, 7, 7, 7, 7, 7, 7, 7, 7,\n",
       "       7, 7, 2, 7, 7, 2, 9, 7, 6, 6, 7, 7, 6, 6, 6, 6, 2, 2, 6, 6, 6, 6,\n",
       "       6, 7, 7, 7, 7, 7, 2, 2, 2, 4, 2, 6, 6, 2, 2, 2, 7, 7, 7, 7, 7, 2,\n",
       "       2, 2, 2, 2, 2, 2, 2, 2, 2, 2, 7, 7, 7, 7, 7, 7, 7, 7, 2, 7, 7, 7,\n",
       "       2, 7, 2, 7, 7, 7, 7, 7, 7, 2, 2, 7, 7, 7, 7, 2, 2, 6, 6, 7, 7, 2,\n",
       "       2, 7, 7, 6, 6, 6, 7, 2, 2, 2, 6, 2, 2, 2, 7, 7, 7, 7, 7, 7, 7, 7,\n",
       "       7, 7, 7, 7, 2, 6, 6, 6, 7, 7, 7, 7, 7, 6, 6, 6, 1, 2, 2, 2, 2, 7,\n",
       "       6, 7, 2, 7, 7, 7, 7, 2, 2, 2, 4, 2, 6, 6, 6, 6, 7, 2, 2, 6, 6, 7,\n",
       "       2, 2, 1, 4, 3, 7, 4, 2, 2, 2, 2, 6, 6, 6, 6, 7, 7, 6, 6, 6, 6, 7,\n",
       "       6, 6, 6, 7, 7, 2, 2, 7, 7, 7, 7, 7, 7, 7, 2, 2, 2, 2, 2, 2, 2, 7,\n",
       "       7, 7, 7, 7, 2, 2, 2, 2, 2, 2, 2, 7, 6, 6, 6, 2, 2, 2, 2, 7, 7, 6,\n",
       "       6, 6, 6, 6, 6, 6, 6, 6, 6, 2, 2, 6, 6, 6, 7, 7, 7, 7, 7, 7, 7, 7,\n",
       "       6, 6, 6, 2, 2, 2, 2, 2, 7, 7, 2, 6, 6, 6, 6, 6, 6, 9, 7, 4, 7, 2,\n",
       "       7, 6, 7, 9, 2, 2, 7, 6, 6, 6, 6, 2, 6, 7, 7, 7, 7, 7, 7, 6, 6, 6,\n",
       "       6, 6, 2, 2, 7, 7])"
      ]
     },
     "execution_count": 83,
     "metadata": {},
     "output_type": "execute_result"
    }
   ],
   "source": [
    "y"
   ]
  },
  {
   "cell_type": "code",
   "execution_count": null,
   "metadata": {},
   "outputs": [],
   "source": []
  },
  {
   "cell_type": "code",
   "execution_count": 51,
   "metadata": {},
   "outputs": [
    {
     "ename": "ValueError",
     "evalue": "Expected 2D array, got 1D array instead:\narray=[0 1 2 3 4 5 6 7 8 9].\nReshape your data either using array.reshape(-1, 1) if your data has a single feature or array.reshape(1, -1) if it contains a single sample.",
     "output_type": "error",
     "traceback": [
      "\u001b[0;31m---------------------------------------------------------------------------\u001b[0m",
      "\u001b[0;31mValueError\u001b[0m                                Traceback (most recent call last)",
      "\u001b[0;32m<ipython-input-51-ef1d28da2148>\u001b[0m in \u001b[0;36m<module>\u001b[0;34m\u001b[0m\n\u001b[0;32m----> 1\u001b[0;31m \u001b[0mkek\u001b[0m \u001b[0;34m=\u001b[0m \u001b[0menc\u001b[0m\u001b[0;34m.\u001b[0m\u001b[0mfit\u001b[0m\u001b[0;34m(\u001b[0m\u001b[0myolo\u001b[0m\u001b[0;34m)\u001b[0m\u001b[0;34m\u001b[0m\u001b[0;34m\u001b[0m\u001b[0m\n\u001b[0m",
      "\u001b[0;32m~/.conda/envs/neural_nets/lib/python3.6/site-packages/sklearn/preprocessing/_encoders.py\u001b[0m in \u001b[0;36mfit\u001b[0;34m(self, X, y)\u001b[0m\n\u001b[1;32m    427\u001b[0m             \u001b[0;32mreturn\u001b[0m \u001b[0mself\u001b[0m\u001b[0;34m\u001b[0m\u001b[0;34m\u001b[0m\u001b[0m\n\u001b[1;32m    428\u001b[0m         \u001b[0;32melse\u001b[0m\u001b[0;34m:\u001b[0m\u001b[0;34m\u001b[0m\u001b[0;34m\u001b[0m\u001b[0m\n\u001b[0;32m--> 429\u001b[0;31m             \u001b[0mself\u001b[0m\u001b[0;34m.\u001b[0m\u001b[0m_fit\u001b[0m\u001b[0;34m(\u001b[0m\u001b[0mX\u001b[0m\u001b[0;34m,\u001b[0m \u001b[0mhandle_unknown\u001b[0m\u001b[0;34m=\u001b[0m\u001b[0mself\u001b[0m\u001b[0;34m.\u001b[0m\u001b[0mhandle_unknown\u001b[0m\u001b[0;34m)\u001b[0m\u001b[0;34m\u001b[0m\u001b[0;34m\u001b[0m\u001b[0m\n\u001b[0m\u001b[1;32m    430\u001b[0m             \u001b[0;32mreturn\u001b[0m \u001b[0mself\u001b[0m\u001b[0;34m\u001b[0m\u001b[0;34m\u001b[0m\u001b[0m\n\u001b[1;32m    431\u001b[0m \u001b[0;34m\u001b[0m\u001b[0m\n",
      "\u001b[0;32m~/.conda/envs/neural_nets/lib/python3.6/site-packages/sklearn/preprocessing/_encoders.py\u001b[0m in \u001b[0;36m_fit\u001b[0;34m(self, X, handle_unknown)\u001b[0m\n\u001b[1;32m     59\u001b[0m \u001b[0;34m\u001b[0m\u001b[0m\n\u001b[1;32m     60\u001b[0m     \u001b[0;32mdef\u001b[0m \u001b[0m_fit\u001b[0m\u001b[0;34m(\u001b[0m\u001b[0mself\u001b[0m\u001b[0;34m,\u001b[0m \u001b[0mX\u001b[0m\u001b[0;34m,\u001b[0m \u001b[0mhandle_unknown\u001b[0m\u001b[0;34m=\u001b[0m\u001b[0;34m'error'\u001b[0m\u001b[0;34m)\u001b[0m\u001b[0;34m:\u001b[0m\u001b[0;34m\u001b[0m\u001b[0;34m\u001b[0m\u001b[0m\n\u001b[0;32m---> 61\u001b[0;31m         \u001b[0mX\u001b[0m \u001b[0;34m=\u001b[0m \u001b[0mself\u001b[0m\u001b[0;34m.\u001b[0m\u001b[0m_check_X\u001b[0m\u001b[0;34m(\u001b[0m\u001b[0mX\u001b[0m\u001b[0;34m)\u001b[0m\u001b[0;34m\u001b[0m\u001b[0;34m\u001b[0m\u001b[0m\n\u001b[0m\u001b[1;32m     62\u001b[0m \u001b[0;34m\u001b[0m\u001b[0m\n\u001b[1;32m     63\u001b[0m         \u001b[0mn_samples\u001b[0m\u001b[0;34m,\u001b[0m \u001b[0mn_features\u001b[0m \u001b[0;34m=\u001b[0m \u001b[0mX\u001b[0m\u001b[0;34m.\u001b[0m\u001b[0mshape\u001b[0m\u001b[0;34m\u001b[0m\u001b[0;34m\u001b[0m\u001b[0m\n",
      "\u001b[0;32m~/.conda/envs/neural_nets/lib/python3.6/site-packages/sklearn/preprocessing/_encoders.py\u001b[0m in \u001b[0;36m_check_X\u001b[0;34m(self, X)\u001b[0m\n\u001b[1;32m     45\u001b[0m \u001b[0;34m\u001b[0m\u001b[0m\n\u001b[1;32m     46\u001b[0m         \"\"\"\n\u001b[0;32m---> 47\u001b[0;31m         \u001b[0mX_temp\u001b[0m \u001b[0;34m=\u001b[0m \u001b[0mcheck_array\u001b[0m\u001b[0;34m(\u001b[0m\u001b[0mX\u001b[0m\u001b[0;34m,\u001b[0m \u001b[0mdtype\u001b[0m\u001b[0;34m=\u001b[0m\u001b[0;32mNone\u001b[0m\u001b[0;34m)\u001b[0m\u001b[0;34m\u001b[0m\u001b[0;34m\u001b[0m\u001b[0m\n\u001b[0m\u001b[1;32m     48\u001b[0m         \u001b[0;32mif\u001b[0m \u001b[0;32mnot\u001b[0m \u001b[0mhasattr\u001b[0m\u001b[0;34m(\u001b[0m\u001b[0mX\u001b[0m\u001b[0;34m,\u001b[0m \u001b[0;34m'dtype'\u001b[0m\u001b[0;34m)\u001b[0m \u001b[0;32mand\u001b[0m \u001b[0mnp\u001b[0m\u001b[0;34m.\u001b[0m\u001b[0missubdtype\u001b[0m\u001b[0;34m(\u001b[0m\u001b[0mX_temp\u001b[0m\u001b[0;34m.\u001b[0m\u001b[0mdtype\u001b[0m\u001b[0;34m,\u001b[0m \u001b[0mnp\u001b[0m\u001b[0;34m.\u001b[0m\u001b[0mstr_\u001b[0m\u001b[0;34m)\u001b[0m\u001b[0;34m:\u001b[0m\u001b[0;34m\u001b[0m\u001b[0;34m\u001b[0m\u001b[0m\n\u001b[1;32m     49\u001b[0m             \u001b[0mX\u001b[0m \u001b[0;34m=\u001b[0m \u001b[0mcheck_array\u001b[0m\u001b[0;34m(\u001b[0m\u001b[0mX\u001b[0m\u001b[0;34m,\u001b[0m \u001b[0mdtype\u001b[0m\u001b[0;34m=\u001b[0m\u001b[0mnp\u001b[0m\u001b[0;34m.\u001b[0m\u001b[0mobject\u001b[0m\u001b[0;34m)\u001b[0m\u001b[0;34m\u001b[0m\u001b[0;34m\u001b[0m\u001b[0m\n",
      "\u001b[0;32m~/.conda/envs/neural_nets/lib/python3.6/site-packages/sklearn/utils/validation.py\u001b[0m in \u001b[0;36mcheck_array\u001b[0;34m(array, accept_sparse, accept_large_sparse, dtype, order, copy, force_all_finite, ensure_2d, allow_nd, ensure_min_samples, ensure_min_features, warn_on_dtype, estimator)\u001b[0m\n\u001b[1;32m    550\u001b[0m                     \u001b[0;34m\"Reshape your data either using array.reshape(-1, 1) if \"\u001b[0m\u001b[0;34m\u001b[0m\u001b[0;34m\u001b[0m\u001b[0m\n\u001b[1;32m    551\u001b[0m                     \u001b[0;34m\"your data has a single feature or array.reshape(1, -1) \"\u001b[0m\u001b[0;34m\u001b[0m\u001b[0;34m\u001b[0m\u001b[0m\n\u001b[0;32m--> 552\u001b[0;31m                     \"if it contains a single sample.\".format(array))\n\u001b[0m\u001b[1;32m    553\u001b[0m \u001b[0;34m\u001b[0m\u001b[0m\n\u001b[1;32m    554\u001b[0m         \u001b[0;31m# in the future np.flexible dtypes will be handled like object dtypes\u001b[0m\u001b[0;34m\u001b[0m\u001b[0;34m\u001b[0m\u001b[0;34m\u001b[0m\u001b[0m\n",
      "\u001b[0;31mValueError\u001b[0m: Expected 2D array, got 1D array instead:\narray=[0 1 2 3 4 5 6 7 8 9].\nReshape your data either using array.reshape(-1, 1) if your data has a single feature or array.reshape(1, -1) if it contains a single sample."
     ]
    }
   ],
   "source": [
    "kek = enc.fit(yolo)"
   ]
  },
  {
   "cell_type": "code",
   "execution_count": null,
   "metadata": {},
   "outputs": [],
   "source": []
  }
 ],
 "metadata": {
  "kernelspec": {
   "display_name": "Python 3",
   "language": "python",
   "name": "python3"
  },
  "language_info": {
   "codemirror_mode": {
    "name": "ipython",
    "version": 3
   },
   "file_extension": ".py",
   "mimetype": "text/x-python",
   "name": "python",
   "nbconvert_exporter": "python",
   "pygments_lexer": "ipython3",
   "version": "3.6.8"
  }
 },
 "nbformat": 4,
 "nbformat_minor": 2
}
