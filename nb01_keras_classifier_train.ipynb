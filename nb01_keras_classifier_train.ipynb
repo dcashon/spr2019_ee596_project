{
 "cells": [
  {
   "cell_type": "code",
   "execution_count": 1,
   "metadata": {},
   "outputs": [
    {
     "name": "stderr",
     "output_type": "stream",
     "text": [
      "Using TensorFlow backend.\n"
     ]
    }
   ],
   "source": [
    "from kmodel import build_model_accurate\n",
    "from kutils import batcher\n",
    "from pathlib import Path\n",
    "import numpy as np\n",
    "from keras.utils import to_categorical\n",
    "import os\n",
    "import keras.optimizers"
   ]
  },
  {
   "cell_type": "code",
   "execution_count": 2,
   "metadata": {},
   "outputs": [
    {
     "name": "stdout",
     "output_type": "stream",
     "text": [
      "WARNING:tensorflow:From /home/dcashon/neural_nets/lib/python3.5/site-packages/tensorflow/python/framework/op_def_library.py:263: colocate_with (from tensorflow.python.framework.ops) is deprecated and will be removed in a future version.\n",
      "Instructions for updating:\n",
      "Colocations handled automatically by placer.\n",
      "WARNING:tensorflow:From /home/dcashon/neural_nets/lib/python3.5/site-packages/keras/backend/tensorflow_backend.py:3445: calling dropout (from tensorflow.python.ops.nn_ops) with keep_prob is deprecated and will be removed in a future version.\n",
      "Instructions for updating:\n",
      "Please use `rate` instead of `keep_prob`. Rate should be set to `rate = 1 - keep_prob`.\n"
     ]
    }
   ],
   "source": [
    "# get model\n",
    "model = build_model_accurate()\n",
    "data_path = Path('/mnt/disks/gscratch/train')"
   ]
  },
  {
   "cell_type": "code",
   "execution_count": 3,
   "metadata": {},
   "outputs": [
    {
     "name": "stdout",
     "output_type": "stream",
     "text": [
      "_________________________________________________________________\n",
      "Layer (type)                 Output Shape              Param #   \n",
      "=================================================================\n",
      "conv2d_1 (Conv2D)            (None, None, None, 96)    28896     \n",
      "_________________________________________________________________\n",
      "activation_1 (Activation)    (None, None, None, 96)    0         \n",
      "_________________________________________________________________\n",
      "max_pooling2d_1 (MaxPooling2 (None, None, None, 96)    0         \n",
      "_________________________________________________________________\n",
      "conv2d_2 (Conv2D)            (None, None, None, 256)   393472    \n",
      "_________________________________________________________________\n",
      "activation_2 (Activation)    (None, None, None, 256)   0         \n",
      "_________________________________________________________________\n",
      "max_pooling2d_2 (MaxPooling2 (None, None, None, 256)   0         \n",
      "_________________________________________________________________\n",
      "conv2d_3 (Conv2D)            (None, None, None, 512)   2097664   \n",
      "_________________________________________________________________\n",
      "activation_3 (Activation)    (None, None, None, 512)   0         \n",
      "_________________________________________________________________\n",
      "conv2d_4 (Conv2D)            (None, None, None, 1024)  4719616   \n",
      "_________________________________________________________________\n",
      "activation_4 (Activation)    (None, None, None, 1024)  0         \n",
      "_________________________________________________________________\n",
      "max_pooling2d_3 (MaxPooling2 (None, None, None, 1024)  0         \n",
      "_________________________________________________________________\n",
      "conv2d_5 (Conv2D)            (None, None, None, 3072)  28314624  \n",
      "_________________________________________________________________\n",
      "conv2d_6 (Conv2D)            (None, None, None, 4096)  12587008  \n",
      "_________________________________________________________________\n",
      "dropout_1 (Dropout)          (None, None, None, 4096)  0         \n",
      "_________________________________________________________________\n",
      "conv2d_7 (Conv2D)            (None, None, None, 10)    40970     \n",
      "_________________________________________________________________\n",
      "lambda_1 (Lambda)            (None, 10)                0         \n",
      "_________________________________________________________________\n",
      "softmax_1 (Softmax)          (None, 10)                0         \n",
      "=================================================================\n",
      "Total params: 48,182,250\n",
      "Trainable params: 48,182,250\n",
      "Non-trainable params: 0\n",
      "_________________________________________________________________\n"
     ]
    }
   ],
   "source": [
    "model.summary()"
   ]
  },
  {
   "cell_type": "code",
   "execution_count": 4,
   "metadata": {},
   "outputs": [],
   "source": [
    "# ------ MODEL TRAINING -------\n",
    "# configuration\n",
    "opt = keras.optimizers.SGD(lr=0.01, decay=1e-6, momentum=0.9, nesterov=True)\n",
    "model.compile(optimizer=opt,\n",
    "              loss='categorical_crossentropy',\n",
    "              metrics=['accuracy'])"
   ]
  },
  {
   "cell_type": "code",
   "execution_count": 5,
   "metadata": {
    "scrolled": false
   },
   "outputs": [
    {
     "name": "stdout",
     "output_type": "stream",
     "text": [
      "Training on Epoch \t 0\n",
      "Training on DataBatch Num 0\n",
      "Loss \t Acc\n",
      "WARNING:tensorflow:From /home/dcashon/neural_nets/lib/python3.5/site-packages/tensorflow/python/ops/math_ops.py:3066: to_int32 (from tensorflow.python.ops.math_ops) is deprecated and will be removed in a future version.\n",
      "Instructions for updating:\n",
      "Use tf.cast instead.\n",
      "2.2267597\t0.125\n",
      "0.67550856\t0.875\n",
      "0.8617835\t0.78125\n",
      "1.514837\t0.5625\n",
      "1.3596171\t0.59375\n",
      "0.798127\t0.84375\n",
      "1.1517396\t0.6875\n",
      "1.1711732\t0.59375\n",
      "1.015903\t0.65625\n",
      "1.3227396\t0.53125\n",
      "1.0511715\t0.625\n",
      "1.2091815\t0.6875\n",
      "0.83247143\t0.78125\n",
      "1.5000554\t0.5\n",
      "1.2949853\t0.625\n",
      "1.466074\t0.5\n",
      "0.8091834\t0.875\n",
      "1.4816096\t0.40625\n",
      "1.0106968\t0.65625\n",
      "1.1891415\t0.625\n",
      "0.8764363\t0.75\n",
      "0.94474673\t0.6875\n",
      "0.75469184\t0.8125\n",
      "0.9244229\t0.78125\n",
      "1.1605197\t0.65625\n",
      "1.8483725\t0.4375\n",
      "1.3825102\t0.53125\n",
      "1.2990806\t0.59375\n",
      "1.1815882\t0.65625\n",
      "1.0181153\t0.75\n",
      "0.95827067\t0.75\n",
      "1.3709257\t0.5625\n",
      "1.4710047\t0.53125\n",
      "Training on DataBatch Num 1\n",
      "Loss \t Acc\n"
     ]
    },
    {
     "ename": "KeyboardInterrupt",
     "evalue": "",
     "output_type": "error",
     "traceback": [
      "\u001b[0;31m---------------------------------------------------------------------------\u001b[0m",
      "\u001b[0;31mKeyboardInterrupt\u001b[0m                         Traceback (most recent call last)",
      "\u001b[0;32m<ipython-input-5-1a62ede27a8c>\u001b[0m in \u001b[0;36m<module>\u001b[0;34m\u001b[0m\n\u001b[1;32m     10\u001b[0m         \u001b[0mc_batcher\u001b[0m \u001b[0;34m=\u001b[0m \u001b[0mbatcher\u001b[0m\u001b[0;34m(\u001b[0m\u001b[0mj\u001b[0m\u001b[0;34m,\u001b[0m \u001b[0mbatch_size\u001b[0m\u001b[0;34m,\u001b[0m \u001b[0mdata_path\u001b[0m\u001b[0;34m)\u001b[0m\u001b[0;34m\u001b[0m\u001b[0m\n\u001b[1;32m     11\u001b[0m         \u001b[0mprint\u001b[0m \u001b[0;34m(\u001b[0m\u001b[0;34m'Loss \\t Acc'\u001b[0m\u001b[0;34m)\u001b[0m\u001b[0;34m\u001b[0m\u001b[0m\n\u001b[0;32m---> 12\u001b[0;31m         \u001b[0;32mfor\u001b[0m \u001b[0mdata\u001b[0m\u001b[0;34m,\u001b[0m \u001b[0mlabels\u001b[0m \u001b[0;32min\u001b[0m \u001b[0mc_batcher\u001b[0m\u001b[0;34m:\u001b[0m\u001b[0;34m\u001b[0m\u001b[0m\n\u001b[0m\u001b[1;32m     13\u001b[0m             \u001b[0mcounter\u001b[0m \u001b[0;34m+=\u001b[0m \u001b[0;36m1\u001b[0m\u001b[0;34m\u001b[0m\u001b[0m\n\u001b[1;32m     14\u001b[0m             \u001b[0mlabels_reshape\u001b[0m \u001b[0;34m=\u001b[0m \u001b[0mto_categorical\u001b[0m\u001b[0;34m(\u001b[0m\u001b[0mlabels\u001b[0m\u001b[0;34m,\u001b[0m \u001b[0mnum_classes\u001b[0m\u001b[0;34m=\u001b[0m\u001b[0;36m10\u001b[0m\u001b[0;34m)\u001b[0m\u001b[0;34m\u001b[0m\u001b[0m\n",
      "\u001b[0;32m~/spr2019_ee596_project/kutils.py\u001b[0m in \u001b[0;36mbatcher\u001b[0;34m(batch_num, batch_size, data_path, classify)\u001b[0m\n\u001b[1;32m      3\u001b[0m \u001b[0;34m\u001b[0m\u001b[0m\n\u001b[1;32m      4\u001b[0m \u001b[0;32mdef\u001b[0m \u001b[0mbatcher\u001b[0m\u001b[0;34m(\u001b[0m\u001b[0mbatch_num\u001b[0m\u001b[0;34m,\u001b[0m \u001b[0mbatch_size\u001b[0m\u001b[0;34m,\u001b[0m \u001b[0mdata_path\u001b[0m\u001b[0;34m,\u001b[0m \u001b[0mclassify\u001b[0m\u001b[0;34m=\u001b[0m\u001b[0;32mTrue\u001b[0m\u001b[0;34m)\u001b[0m\u001b[0;34m:\u001b[0m\u001b[0;34m\u001b[0m\u001b[0m\n\u001b[0;32m----> 5\u001b[0;31m     \u001b[0mdata\u001b[0m \u001b[0;34m=\u001b[0m \u001b[0mnp\u001b[0m\u001b[0;34m.\u001b[0m\u001b[0mload\u001b[0m\u001b[0;34m(\u001b[0m\u001b[0mdata_path\u001b[0m \u001b[0;34m/\u001b[0m \u001b[0;34m(\u001b[0m\u001b[0;34m'test_img_pixnum2000_'\u001b[0m \u001b[0;34m+\u001b[0m \u001b[0mstr\u001b[0m\u001b[0;34m(\u001b[0m\u001b[0mbatch_num\u001b[0m\u001b[0;34m)\u001b[0m \u001b[0;34m+\u001b[0m \u001b[0;34m'.npy'\u001b[0m\u001b[0;34m)\u001b[0m\u001b[0;34m)\u001b[0m\u001b[0;34m\u001b[0m\u001b[0m\n\u001b[0m\u001b[1;32m      6\u001b[0m     \u001b[0;32mif\u001b[0m \u001b[0mclassify\u001b[0m \u001b[0;32mis\u001b[0m \u001b[0;32mTrue\u001b[0m\u001b[0;34m:\u001b[0m\u001b[0;34m\u001b[0m\u001b[0m\n\u001b[1;32m      7\u001b[0m         \u001b[0mlabels\u001b[0m \u001b[0;34m=\u001b[0m \u001b[0mnp\u001b[0m\u001b[0;34m.\u001b[0m\u001b[0mload\u001b[0m\u001b[0;34m(\u001b[0m\u001b[0mdata_path\u001b[0m \u001b[0;34m/\u001b[0m \u001b[0;34m(\u001b[0m\u001b[0;34m'test_label_pixnum2000_'\u001b[0m \u001b[0;34m+\u001b[0m \u001b[0mstr\u001b[0m\u001b[0;34m(\u001b[0m\u001b[0mbatch_num\u001b[0m\u001b[0;34m)\u001b[0m \u001b[0;34m+\u001b[0m \u001b[0;34m'.npy'\u001b[0m\u001b[0;34m)\u001b[0m\u001b[0;34m)\u001b[0m\u001b[0;34m\u001b[0m\u001b[0m\n",
      "\u001b[0;32m~/neural_nets/lib/python3.5/site-packages/numpy/lib/npyio.py\u001b[0m in \u001b[0;36mload\u001b[0;34m(file, mmap_mode, allow_pickle, fix_imports, encoding)\u001b[0m\n\u001b[1;32m    445\u001b[0m             \u001b[0;32melse\u001b[0m\u001b[0;34m:\u001b[0m\u001b[0;34m\u001b[0m\u001b[0m\n\u001b[1;32m    446\u001b[0m                 return format.read_array(fid, allow_pickle=allow_pickle,\n\u001b[0;32m--> 447\u001b[0;31m                                          pickle_kwargs=pickle_kwargs)\n\u001b[0m\u001b[1;32m    448\u001b[0m         \u001b[0;32melse\u001b[0m\u001b[0;34m:\u001b[0m\u001b[0;34m\u001b[0m\u001b[0m\n\u001b[1;32m    449\u001b[0m             \u001b[0;31m# Try a pickle\u001b[0m\u001b[0;34m\u001b[0m\u001b[0;34m\u001b[0m\u001b[0m\n",
      "\u001b[0;32m~/neural_nets/lib/python3.5/site-packages/numpy/lib/format.py\u001b[0m in \u001b[0;36mread_array\u001b[0;34m(fp, allow_pickle, pickle_kwargs)\u001b[0m\n\u001b[1;32m    710\u001b[0m         \u001b[0;32mif\u001b[0m \u001b[0misfileobj\u001b[0m\u001b[0;34m(\u001b[0m\u001b[0mfp\u001b[0m\u001b[0;34m)\u001b[0m\u001b[0;34m:\u001b[0m\u001b[0;34m\u001b[0m\u001b[0m\n\u001b[1;32m    711\u001b[0m             \u001b[0;31m# We can use the fast fromfile() function.\u001b[0m\u001b[0;34m\u001b[0m\u001b[0;34m\u001b[0m\u001b[0m\n\u001b[0;32m--> 712\u001b[0;31m             \u001b[0marray\u001b[0m \u001b[0;34m=\u001b[0m \u001b[0mnumpy\u001b[0m\u001b[0;34m.\u001b[0m\u001b[0mfromfile\u001b[0m\u001b[0;34m(\u001b[0m\u001b[0mfp\u001b[0m\u001b[0;34m,\u001b[0m \u001b[0mdtype\u001b[0m\u001b[0;34m=\u001b[0m\u001b[0mdtype\u001b[0m\u001b[0;34m,\u001b[0m \u001b[0mcount\u001b[0m\u001b[0;34m=\u001b[0m\u001b[0mcount\u001b[0m\u001b[0;34m)\u001b[0m\u001b[0;34m\u001b[0m\u001b[0m\n\u001b[0m\u001b[1;32m    713\u001b[0m         \u001b[0;32melse\u001b[0m\u001b[0;34m:\u001b[0m\u001b[0;34m\u001b[0m\u001b[0m\n\u001b[1;32m    714\u001b[0m             \u001b[0;31m# This is not a real file. We have to read it the\u001b[0m\u001b[0;34m\u001b[0m\u001b[0;34m\u001b[0m\u001b[0m\n",
      "\u001b[0;31mKeyboardInterrupt\u001b[0m: "
     ]
    }
   ],
   "source": [
    "# TRAIN\n",
    "num_epochs = 20\n",
    "num_data = 13\n",
    "batch_size = 32\n",
    "counter = 0\n",
    "for i in range(num_epochs):\n",
    "    print('Training on Epoch \\t %s' % i)\n",
    "    for j in range(num_data):\n",
    "        print('Training on DataBatch Num %s' % j)\n",
    "        c_batcher = batcher(j, batch_size, data_path)\n",
    "        print ('Loss \\t Acc')\n",
    "        for data, labels in c_batcher:\n",
    "            counter += 1\n",
    "            labels_reshape = to_categorical(labels, num_classes=10)\n",
    "            np.random.shuffle(data)\n",
    "            t = model.train_on_batch(data / 255, labels_reshape)\n",
    "            w_test = model.get_weights()\n",
    "            if counter % 10 == 0:\n",
    "                #print(w_test[0][0, :, 0, 0])\n",
    "                print(str(t[0]) + '\\t' + str(t[1]))\n",
    "    model.save('/mnt/disks/gscratch/models/my_model10_epoch' + str(i) + '.h5')"
   ]
  },
  {
   "cell_type": "code",
   "execution_count": 8,
   "metadata": {},
   "outputs": [],
   "source": [
    "yolo = model.get_weights()"
   ]
  },
  {
   "cell_type": "code",
   "execution_count": 16,
   "metadata": {},
   "outputs": [
    {
     "data": {
      "text/plain": [
       "array([[-0.03655735, -0.02212106, -0.04576095, -0.03497058, -0.01477188,\n",
       "        -0.02134997, -0.04022858, -0.01484837, -0.02262025, -0.0507981 ],\n",
       "       [-0.01179743, -0.0144861 , -0.03448864, -0.00887355, -0.05348432,\n",
       "        -0.03625184, -0.0288795 , -0.02541491, -0.02971094, -0.05296084],\n",
       "       [-0.0210021 , -0.02103544, -0.04218695, -0.04286947, -0.01319038,\n",
       "        -0.03534925, -0.02359344, -0.02559328, -0.0560123 , -0.04963172],\n",
       "       [-0.04236226, -0.01059626, -0.03602672, -0.03086636, -0.0562016 ,\n",
       "        -0.03563191, -0.02817789, -0.04634399, -0.0098886 , -0.02281638],\n",
       "       [-0.0246684 , -0.01010701, -0.03078042, -0.00738673, -0.05311235,\n",
       "        -0.04664946, -0.0190189 , -0.01225396, -0.01892494, -0.05222991],\n",
       "       [-0.02597065, -0.03588773, -0.04645499, -0.0441514 , -0.02042934,\n",
       "        -0.04631473, -0.02106471, -0.02326624, -0.05347365, -0.04705325],\n",
       "       [-0.01588523, -0.01912145, -0.05133615, -0.01140611, -0.03816541,\n",
       "        -0.02165639, -0.04443327, -0.03689729, -0.020682  , -0.03338346],\n",
       "       [-0.0104455 , -0.02664476, -0.01770344, -0.05601688, -0.04704122,\n",
       "        -0.01791939, -0.02096594, -0.01129908, -0.01267731, -0.03145753],\n",
       "       [-0.03787391, -0.04837148, -0.03170299, -0.04152794, -0.03259853,\n",
       "        -0.04625348, -0.04653333, -0.02891898, -0.02687554, -0.01564649],\n",
       "       [-0.03002237, -0.05061137, -0.03304726, -0.02066126, -0.01114538,\n",
       "        -0.03077433, -0.01000354, -0.02247489, -0.00930945, -0.00995446]],\n",
       "      dtype=float32)"
      ]
     },
     "execution_count": 16,
     "metadata": {},
     "output_type": "execute_result"
    }
   ],
   "source": []
  },
  {
   "cell_type": "code",
   "execution_count": null,
   "metadata": {},
   "outputs": [],
   "source": []
  }
 ],
 "metadata": {
  "kernelspec": {
   "display_name": "Python 3",
   "language": "python",
   "name": "python3"
  },
  "language_info": {
   "codemirror_mode": {
    "name": "ipython",
    "version": 3
   },
   "file_extension": ".py",
   "mimetype": "text/x-python",
   "name": "python",
   "nbconvert_exporter": "python",
   "pygments_lexer": "ipython3",
   "version": "3.5.3"
  }
 },
 "nbformat": 4,
 "nbformat_minor": 2
}
